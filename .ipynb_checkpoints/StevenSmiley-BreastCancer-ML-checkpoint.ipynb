{
 "cells": [
  {
   "cell_type": "markdown",
   "metadata": {},
   "source": [
    "#     Using Machine Learning to Diagnose Breast Cancer in Python\n",
    "## by:  Steven Smiley"
   ]
  },
  {
   "cell_type": "markdown",
   "metadata": {},
   "source": [
    "# Problem Statement:\n",
    "\n",
    "Find a Machine Learning (ML) model that accurately predicts breast cancer based on the 30 features described below."
   ]
  },
  {
   "cell_type": "markdown",
   "metadata": {},
   "source": [
    "# 1.  Background:\n",
    "\n",
    "Features are computed from a digitized image of a fine needle aspirate (FNA) of a breast mass. They describe characteristics of the cell nuclei present in the image. n the 3-dimensional space is that described in: [K. P. Bennett and O. L. Mangasarian: \"Robust Linear Programming Discrimination of Two Linearly Inseparable Sets\", Optimization Methods and Software 1, 1992, 23-34].\n",
    "\n",
    "This database is also available through the UW CS ftp server: ftp ftp.cs.wisc.edu cd math-prog/cpo-dataset/machine-learn/WDBC/\n",
    "\n",
    "Also can be found on UCI Machine Learning Repository: https://archive.ics.uci.edu/ml/datasets/Breast+Cancer+Wisconsin+%28Diagnostic%29\n",
    "\n",
    "Attribute Information:\n",
    "\n",
    "1) ID number 2) Diagnosis (M = malignant, B = benign) 3-32)\n",
    "\n",
    "Ten real-valued features are computed for each cell nucleus:\n",
    "\n",
    "a) radius (mean of distances from center to points on the perimeter) b) texture (standard deviation of gray-scale values) c) perimeter d) area e) smoothness (local variation in radius lengths) f) compactness (perimeter^2 / area - 1.0) g) concavity (severity of concave portions of the contour) h) concave points (number of concave portions of the contour) i) symmetry j) fractal dimension (\"coastline approximation\" - 1)\n",
    "\n",
    "The mean, standard error and \"worst\" or largest (mean of the three largest values) of these features were computed for each image, resulting in 30 features. For instance, field 3 is Mean Radius, field 13 is Radius SE, field 23 is Worst Radius.\n",
    "\n",
    "All feature values are recoded with four significant digits.\n",
    "\n",
    "Missing attribute values: none\n",
    "\n",
    "Class distribution: 357 benign, 212 malignant"
   ]
  },
  {
   "cell_type": "markdown",
   "metadata": {},
   "source": [
    "# 2. Abstract:\n",
    "\n",
    "  When it comes to diagnosing breast cancer, we want to make sure we don't have too many false positives (you have cancer, but told you dont) or false negatives (you don't have cancer, but told you do and go on treatments). Therefore, the highest overall accuracy model was chosen, which was the Gradient Boosted model.  \n",
    "  \n",
    "  Several different models were evaluated through k-crossfold validation and GridSearchCV, which iterates on different algorithm's hyperparameters:\n",
    "  * Logistic Regression \n",
    "  * Support Vector Machine\n",
    "  * Neural Network\n",
    "  * Random Forest\n",
    "  * Gradient Boost\n",
    "  * eXtreme Gradient Boost\n",
    "\n",
    "   \n",
    "   All of the models performed well after fine tunning their hyperparameters, but the best model was the Gradient Boosted model as shown with an accuracy of ~97.4%. Out of the 20% of data witheld in this test (114 random individuals), only 3 were misdiagnosed. Two of which were misdiagnosed via False Positive, which means they had cancer, but told they didn't. One was misdiganosed via False Negative, which means they didn't have cancer, but told they did. No model is perfect, but I am happy about how accurate my model is here. If on average only 3 people out of 114 are misdiagnosed, that is a good start for making a model. Furthermore, the Feature Importance plots show that the \"concave points mean\" was by far the most significant feature to extract from a biopsy and should be taken each time if possible for predicting breast cancer.\n",
    "\n"
   ]
  },
  {
   "cell_type": "markdown",
   "metadata": {},
   "source": [
    "# 3.  Import Libraries "
   ]
  },
  {
   "cell_type": "code",
   "execution_count": 1,
   "metadata": {},
   "outputs": [],
   "source": [
    "import warnings\n",
    "import os # Get Current Directory\n",
    "from sklearn.model_selection import train_test_split\n",
    "from sklearn.model_selection import GridSearchCV\n",
    "from sklearn.metrics import accuracy_score, precision_score, recall_score\n",
    "import pandas as pd # data processing, CSV file I/O (e.i. pd.read_csv)\n",
    "import numpy as np\n",
    "import matplotlib.pyplot as plt\n",
    "import seaborn as sns\n",
    "import joblib\n",
    "from time import time\n",
    "from sklearn.linear_model import LogisticRegression\n",
    "from sklearn.svm import SVC\n",
    "from sklearn.neural_network import MLPClassifier\n",
    "from sklearn.ensemble import RandomForestClassifier\n",
    "from sklearn.ensemble import GradientBoostingClassifier\n",
    "from xgboost import XGBClassifier\n",
    "from sklearn.decomposition import PCA\n",
    "from scipy import stats\n",
    "import subprocess\n",
    "from sklearn.metrics import classification_report, confusion_matrix, accuracy_score\n",
    "from sklearn.utils.multiclass import unique_labels\n",
    "import itertools"
   ]
  },
  {
   "cell_type": "markdown",
   "metadata": {},
   "source": [
    "# 3.  Hide Warnings"
   ]
  },
  {
   "cell_type": "code",
   "execution_count": 2,
   "metadata": {},
   "outputs": [],
   "source": [
    "warnings.filterwarnings(\"ignore\")\n",
    "pd.set_option('mode.chained_assignment', None)"
   ]
  },
  {
   "cell_type": "markdown",
   "metadata": {},
   "source": [
    "# 4. Get Current Directory"
   ]
  },
  {
   "cell_type": "code",
   "execution_count": 3,
   "metadata": {},
   "outputs": [
    {
     "name": "stdout",
     "output_type": "stream",
     "text": [
      "/Users/stevensmiley/Desktop/GraduateSchool/Python/PythonCodes/BreastCancer\n"
     ]
    }
   ],
   "source": [
    "currentDirectory=os.getcwd()\n",
    "print(currentDirectory)"
   ]
  },
  {
   "cell_type": "markdown",
   "metadata": {},
   "source": [
    "# 5. Import and View Data"
   ]
  },
  {
   "cell_type": "code",
   "execution_count": 4,
   "metadata": {},
   "outputs": [
    {
     "data": {
      "text/html": [
       "<div>\n",
       "<style scoped>\n",
       "    .dataframe tbody tr th:only-of-type {\n",
       "        vertical-align: middle;\n",
       "    }\n",
       "\n",
       "    .dataframe tbody tr th {\n",
       "        vertical-align: top;\n",
       "    }\n",
       "\n",
       "    .dataframe thead th {\n",
       "        text-align: right;\n",
       "    }\n",
       "</style>\n",
       "<table border=\"1\" class=\"dataframe\">\n",
       "  <thead>\n",
       "    <tr style=\"text-align: right;\">\n",
       "      <th></th>\n",
       "      <th>id</th>\n",
       "      <th>diagnosis</th>\n",
       "      <th>radius_mean</th>\n",
       "      <th>texture_mean</th>\n",
       "      <th>perimeter_mean</th>\n",
       "      <th>area_mean</th>\n",
       "      <th>smoothness_mean</th>\n",
       "      <th>compactness_mean</th>\n",
       "      <th>concavity_mean</th>\n",
       "      <th>concave points_mean</th>\n",
       "      <th>...</th>\n",
       "      <th>texture_worst</th>\n",
       "      <th>perimeter_worst</th>\n",
       "      <th>area_worst</th>\n",
       "      <th>smoothness_worst</th>\n",
       "      <th>compactness_worst</th>\n",
       "      <th>concavity_worst</th>\n",
       "      <th>concave points_worst</th>\n",
       "      <th>symmetry_worst</th>\n",
       "      <th>fractal_dimension_worst</th>\n",
       "      <th>Unnamed: 32</th>\n",
       "    </tr>\n",
       "  </thead>\n",
       "  <tbody>\n",
       "    <tr>\n",
       "      <td>0</td>\n",
       "      <td>842302</td>\n",
       "      <td>M</td>\n",
       "      <td>17.99</td>\n",
       "      <td>10.38</td>\n",
       "      <td>122.80</td>\n",
       "      <td>1001.0</td>\n",
       "      <td>0.11840</td>\n",
       "      <td>0.27760</td>\n",
       "      <td>0.30010</td>\n",
       "      <td>0.14710</td>\n",
       "      <td>...</td>\n",
       "      <td>17.33</td>\n",
       "      <td>184.60</td>\n",
       "      <td>2019.0</td>\n",
       "      <td>0.1622</td>\n",
       "      <td>0.6656</td>\n",
       "      <td>0.7119</td>\n",
       "      <td>0.2654</td>\n",
       "      <td>0.4601</td>\n",
       "      <td>0.11890</td>\n",
       "      <td>NaN</td>\n",
       "    </tr>\n",
       "    <tr>\n",
       "      <td>1</td>\n",
       "      <td>842517</td>\n",
       "      <td>M</td>\n",
       "      <td>20.57</td>\n",
       "      <td>17.77</td>\n",
       "      <td>132.90</td>\n",
       "      <td>1326.0</td>\n",
       "      <td>0.08474</td>\n",
       "      <td>0.07864</td>\n",
       "      <td>0.08690</td>\n",
       "      <td>0.07017</td>\n",
       "      <td>...</td>\n",
       "      <td>23.41</td>\n",
       "      <td>158.80</td>\n",
       "      <td>1956.0</td>\n",
       "      <td>0.1238</td>\n",
       "      <td>0.1866</td>\n",
       "      <td>0.2416</td>\n",
       "      <td>0.1860</td>\n",
       "      <td>0.2750</td>\n",
       "      <td>0.08902</td>\n",
       "      <td>NaN</td>\n",
       "    </tr>\n",
       "    <tr>\n",
       "      <td>2</td>\n",
       "      <td>84300903</td>\n",
       "      <td>M</td>\n",
       "      <td>19.69</td>\n",
       "      <td>21.25</td>\n",
       "      <td>130.00</td>\n",
       "      <td>1203.0</td>\n",
       "      <td>0.10960</td>\n",
       "      <td>0.15990</td>\n",
       "      <td>0.19740</td>\n",
       "      <td>0.12790</td>\n",
       "      <td>...</td>\n",
       "      <td>25.53</td>\n",
       "      <td>152.50</td>\n",
       "      <td>1709.0</td>\n",
       "      <td>0.1444</td>\n",
       "      <td>0.4245</td>\n",
       "      <td>0.4504</td>\n",
       "      <td>0.2430</td>\n",
       "      <td>0.3613</td>\n",
       "      <td>0.08758</td>\n",
       "      <td>NaN</td>\n",
       "    </tr>\n",
       "    <tr>\n",
       "      <td>3</td>\n",
       "      <td>84348301</td>\n",
       "      <td>M</td>\n",
       "      <td>11.42</td>\n",
       "      <td>20.38</td>\n",
       "      <td>77.58</td>\n",
       "      <td>386.1</td>\n",
       "      <td>0.14250</td>\n",
       "      <td>0.28390</td>\n",
       "      <td>0.24140</td>\n",
       "      <td>0.10520</td>\n",
       "      <td>...</td>\n",
       "      <td>26.50</td>\n",
       "      <td>98.87</td>\n",
       "      <td>567.7</td>\n",
       "      <td>0.2098</td>\n",
       "      <td>0.8663</td>\n",
       "      <td>0.6869</td>\n",
       "      <td>0.2575</td>\n",
       "      <td>0.6638</td>\n",
       "      <td>0.17300</td>\n",
       "      <td>NaN</td>\n",
       "    </tr>\n",
       "    <tr>\n",
       "      <td>4</td>\n",
       "      <td>84358402</td>\n",
       "      <td>M</td>\n",
       "      <td>20.29</td>\n",
       "      <td>14.34</td>\n",
       "      <td>135.10</td>\n",
       "      <td>1297.0</td>\n",
       "      <td>0.10030</td>\n",
       "      <td>0.13280</td>\n",
       "      <td>0.19800</td>\n",
       "      <td>0.10430</td>\n",
       "      <td>...</td>\n",
       "      <td>16.67</td>\n",
       "      <td>152.20</td>\n",
       "      <td>1575.0</td>\n",
       "      <td>0.1374</td>\n",
       "      <td>0.2050</td>\n",
       "      <td>0.4000</td>\n",
       "      <td>0.1625</td>\n",
       "      <td>0.2364</td>\n",
       "      <td>0.07678</td>\n",
       "      <td>NaN</td>\n",
       "    </tr>\n",
       "    <tr>\n",
       "      <td>5</td>\n",
       "      <td>843786</td>\n",
       "      <td>M</td>\n",
       "      <td>12.45</td>\n",
       "      <td>15.70</td>\n",
       "      <td>82.57</td>\n",
       "      <td>477.1</td>\n",
       "      <td>0.12780</td>\n",
       "      <td>0.17000</td>\n",
       "      <td>0.15780</td>\n",
       "      <td>0.08089</td>\n",
       "      <td>...</td>\n",
       "      <td>23.75</td>\n",
       "      <td>103.40</td>\n",
       "      <td>741.6</td>\n",
       "      <td>0.1791</td>\n",
       "      <td>0.5249</td>\n",
       "      <td>0.5355</td>\n",
       "      <td>0.1741</td>\n",
       "      <td>0.3985</td>\n",
       "      <td>0.12440</td>\n",
       "      <td>NaN</td>\n",
       "    </tr>\n",
       "    <tr>\n",
       "      <td>6</td>\n",
       "      <td>844359</td>\n",
       "      <td>M</td>\n",
       "      <td>18.25</td>\n",
       "      <td>19.98</td>\n",
       "      <td>119.60</td>\n",
       "      <td>1040.0</td>\n",
       "      <td>0.09463</td>\n",
       "      <td>0.10900</td>\n",
       "      <td>0.11270</td>\n",
       "      <td>0.07400</td>\n",
       "      <td>...</td>\n",
       "      <td>27.66</td>\n",
       "      <td>153.20</td>\n",
       "      <td>1606.0</td>\n",
       "      <td>0.1442</td>\n",
       "      <td>0.2576</td>\n",
       "      <td>0.3784</td>\n",
       "      <td>0.1932</td>\n",
       "      <td>0.3063</td>\n",
       "      <td>0.08368</td>\n",
       "      <td>NaN</td>\n",
       "    </tr>\n",
       "    <tr>\n",
       "      <td>7</td>\n",
       "      <td>84458202</td>\n",
       "      <td>M</td>\n",
       "      <td>13.71</td>\n",
       "      <td>20.83</td>\n",
       "      <td>90.20</td>\n",
       "      <td>577.9</td>\n",
       "      <td>0.11890</td>\n",
       "      <td>0.16450</td>\n",
       "      <td>0.09366</td>\n",
       "      <td>0.05985</td>\n",
       "      <td>...</td>\n",
       "      <td>28.14</td>\n",
       "      <td>110.60</td>\n",
       "      <td>897.0</td>\n",
       "      <td>0.1654</td>\n",
       "      <td>0.3682</td>\n",
       "      <td>0.2678</td>\n",
       "      <td>0.1556</td>\n",
       "      <td>0.3196</td>\n",
       "      <td>0.11510</td>\n",
       "      <td>NaN</td>\n",
       "    </tr>\n",
       "    <tr>\n",
       "      <td>8</td>\n",
       "      <td>844981</td>\n",
       "      <td>M</td>\n",
       "      <td>13.00</td>\n",
       "      <td>21.82</td>\n",
       "      <td>87.50</td>\n",
       "      <td>519.8</td>\n",
       "      <td>0.12730</td>\n",
       "      <td>0.19320</td>\n",
       "      <td>0.18590</td>\n",
       "      <td>0.09353</td>\n",
       "      <td>...</td>\n",
       "      <td>30.73</td>\n",
       "      <td>106.20</td>\n",
       "      <td>739.3</td>\n",
       "      <td>0.1703</td>\n",
       "      <td>0.5401</td>\n",
       "      <td>0.5390</td>\n",
       "      <td>0.2060</td>\n",
       "      <td>0.4378</td>\n",
       "      <td>0.10720</td>\n",
       "      <td>NaN</td>\n",
       "    </tr>\n",
       "    <tr>\n",
       "      <td>9</td>\n",
       "      <td>84501001</td>\n",
       "      <td>M</td>\n",
       "      <td>12.46</td>\n",
       "      <td>24.04</td>\n",
       "      <td>83.97</td>\n",
       "      <td>475.9</td>\n",
       "      <td>0.11860</td>\n",
       "      <td>0.23960</td>\n",
       "      <td>0.22730</td>\n",
       "      <td>0.08543</td>\n",
       "      <td>...</td>\n",
       "      <td>40.68</td>\n",
       "      <td>97.65</td>\n",
       "      <td>711.4</td>\n",
       "      <td>0.1853</td>\n",
       "      <td>1.0580</td>\n",
       "      <td>1.1050</td>\n",
       "      <td>0.2210</td>\n",
       "      <td>0.4366</td>\n",
       "      <td>0.20750</td>\n",
       "      <td>NaN</td>\n",
       "    </tr>\n",
       "  </tbody>\n",
       "</table>\n",
       "<p>10 rows × 33 columns</p>\n",
       "</div>"
      ],
      "text/plain": [
       "         id diagnosis  radius_mean  texture_mean  perimeter_mean  area_mean  \\\n",
       "0    842302         M        17.99         10.38          122.80     1001.0   \n",
       "1    842517         M        20.57         17.77          132.90     1326.0   \n",
       "2  84300903         M        19.69         21.25          130.00     1203.0   \n",
       "3  84348301         M        11.42         20.38           77.58      386.1   \n",
       "4  84358402         M        20.29         14.34          135.10     1297.0   \n",
       "5    843786         M        12.45         15.70           82.57      477.1   \n",
       "6    844359         M        18.25         19.98          119.60     1040.0   \n",
       "7  84458202         M        13.71         20.83           90.20      577.9   \n",
       "8    844981         M        13.00         21.82           87.50      519.8   \n",
       "9  84501001         M        12.46         24.04           83.97      475.9   \n",
       "\n",
       "   smoothness_mean  compactness_mean  concavity_mean  concave points_mean  \\\n",
       "0          0.11840           0.27760         0.30010              0.14710   \n",
       "1          0.08474           0.07864         0.08690              0.07017   \n",
       "2          0.10960           0.15990         0.19740              0.12790   \n",
       "3          0.14250           0.28390         0.24140              0.10520   \n",
       "4          0.10030           0.13280         0.19800              0.10430   \n",
       "5          0.12780           0.17000         0.15780              0.08089   \n",
       "6          0.09463           0.10900         0.11270              0.07400   \n",
       "7          0.11890           0.16450         0.09366              0.05985   \n",
       "8          0.12730           0.19320         0.18590              0.09353   \n",
       "9          0.11860           0.23960         0.22730              0.08543   \n",
       "\n",
       "   ...  texture_worst  perimeter_worst  area_worst  smoothness_worst  \\\n",
       "0  ...          17.33           184.60      2019.0            0.1622   \n",
       "1  ...          23.41           158.80      1956.0            0.1238   \n",
       "2  ...          25.53           152.50      1709.0            0.1444   \n",
       "3  ...          26.50            98.87       567.7            0.2098   \n",
       "4  ...          16.67           152.20      1575.0            0.1374   \n",
       "5  ...          23.75           103.40       741.6            0.1791   \n",
       "6  ...          27.66           153.20      1606.0            0.1442   \n",
       "7  ...          28.14           110.60       897.0            0.1654   \n",
       "8  ...          30.73           106.20       739.3            0.1703   \n",
       "9  ...          40.68            97.65       711.4            0.1853   \n",
       "\n",
       "   compactness_worst  concavity_worst  concave points_worst  symmetry_worst  \\\n",
       "0             0.6656           0.7119                0.2654          0.4601   \n",
       "1             0.1866           0.2416                0.1860          0.2750   \n",
       "2             0.4245           0.4504                0.2430          0.3613   \n",
       "3             0.8663           0.6869                0.2575          0.6638   \n",
       "4             0.2050           0.4000                0.1625          0.2364   \n",
       "5             0.5249           0.5355                0.1741          0.3985   \n",
       "6             0.2576           0.3784                0.1932          0.3063   \n",
       "7             0.3682           0.2678                0.1556          0.3196   \n",
       "8             0.5401           0.5390                0.2060          0.4378   \n",
       "9             1.0580           1.1050                0.2210          0.4366   \n",
       "\n",
       "   fractal_dimension_worst  Unnamed: 32  \n",
       "0                  0.11890          NaN  \n",
       "1                  0.08902          NaN  \n",
       "2                  0.08758          NaN  \n",
       "3                  0.17300          NaN  \n",
       "4                  0.07678          NaN  \n",
       "5                  0.12440          NaN  \n",
       "6                  0.08368          NaN  \n",
       "7                  0.11510          NaN  \n",
       "8                  0.10720          NaN  \n",
       "9                  0.20750          NaN  \n",
       "\n",
       "[10 rows x 33 columns]"
      ]
     },
     "execution_count": 4,
     "metadata": {},
     "output_type": "execute_result"
    }
   ],
   "source": [
    "#data= pd.read_csv('/kaggle/input/breast-cancer-wisconsin-data/data.csv')\n",
    "data=os.path.join(currentDirectory,'data.csv')\n",
    "data= pd.read_csv(data)\n",
    "data.head(10) # view the first 10 columns"
   ]
  },
  {
   "cell_type": "markdown",
   "metadata": {},
   "source": [
    "## 5.1 Import and View Data:  Check for Missing Values\n",
    "\n",
    "As the background stated, no missing values should be present.  The following verifies that.  The last column doesn't hold any information and should be removed.  In addition, the diagnosis should be changed to a binary classification of 0= benign and 1=malignant."
   ]
  },
  {
   "cell_type": "code",
   "execution_count": 5,
   "metadata": {},
   "outputs": [
    {
     "data": {
      "text/plain": [
       "id                           0\n",
       "diagnosis                    0\n",
       "radius_mean                  0\n",
       "texture_mean                 0\n",
       "perimeter_mean               0\n",
       "area_mean                    0\n",
       "smoothness_mean              0\n",
       "compactness_mean             0\n",
       "concavity_mean               0\n",
       "concave points_mean          0\n",
       "symmetry_mean                0\n",
       "fractal_dimension_mean       0\n",
       "radius_se                    0\n",
       "texture_se                   0\n",
       "perimeter_se                 0\n",
       "area_se                      0\n",
       "smoothness_se                0\n",
       "compactness_se               0\n",
       "concavity_se                 0\n",
       "concave points_se            0\n",
       "symmetry_se                  0\n",
       "fractal_dimension_se         0\n",
       "radius_worst                 0\n",
       "texture_worst                0\n",
       "perimeter_worst              0\n",
       "area_worst                   0\n",
       "smoothness_worst             0\n",
       "compactness_worst            0\n",
       "concavity_worst              0\n",
       "concave points_worst         0\n",
       "symmetry_worst               0\n",
       "fractal_dimension_worst      0\n",
       "Unnamed: 32                569\n",
       "dtype: int64"
      ]
     },
     "execution_count": 5,
     "metadata": {},
     "output_type": "execute_result"
    }
   ],
   "source": [
    "data.isnull().sum()"
   ]
  },
  {
   "cell_type": "code",
   "execution_count": 6,
   "metadata": {},
   "outputs": [],
   "source": [
    "# Drop Unnamed: 32 variable that has NaN values.\n",
    "data.drop(['Unnamed: 32'],axis=1,inplace=True)"
   ]
  },
  {
   "cell_type": "code",
   "execution_count": 7,
   "metadata": {},
   "outputs": [],
   "source": [
    "# Convert Diagnosis for Cancer from Categorical Variable to Binary\n",
    "diagnosis_num={'B':0,'M':1}\n",
    "data['diagnosis']=data['diagnosis'].map(diagnosis_num)"
   ]
  },
  {
   "cell_type": "code",
   "execution_count": 8,
   "metadata": {},
   "outputs": [
    {
     "data": {
      "text/html": [
       "<div>\n",
       "<style scoped>\n",
       "    .dataframe tbody tr th:only-of-type {\n",
       "        vertical-align: middle;\n",
       "    }\n",
       "\n",
       "    .dataframe tbody tr th {\n",
       "        vertical-align: top;\n",
       "    }\n",
       "\n",
       "    .dataframe thead th {\n",
       "        text-align: right;\n",
       "    }\n",
       "</style>\n",
       "<table border=\"1\" class=\"dataframe\">\n",
       "  <thead>\n",
       "    <tr style=\"text-align: right;\">\n",
       "      <th></th>\n",
       "      <th>id</th>\n",
       "      <th>diagnosis</th>\n",
       "      <th>radius_mean</th>\n",
       "      <th>texture_mean</th>\n",
       "      <th>perimeter_mean</th>\n",
       "      <th>area_mean</th>\n",
       "      <th>smoothness_mean</th>\n",
       "      <th>compactness_mean</th>\n",
       "      <th>concavity_mean</th>\n",
       "      <th>concave points_mean</th>\n",
       "      <th>...</th>\n",
       "      <th>radius_worst</th>\n",
       "      <th>texture_worst</th>\n",
       "      <th>perimeter_worst</th>\n",
       "      <th>area_worst</th>\n",
       "      <th>smoothness_worst</th>\n",
       "      <th>compactness_worst</th>\n",
       "      <th>concavity_worst</th>\n",
       "      <th>concave points_worst</th>\n",
       "      <th>symmetry_worst</th>\n",
       "      <th>fractal_dimension_worst</th>\n",
       "    </tr>\n",
       "  </thead>\n",
       "  <tbody>\n",
       "    <tr>\n",
       "      <td>0</td>\n",
       "      <td>842302</td>\n",
       "      <td>1</td>\n",
       "      <td>17.99</td>\n",
       "      <td>10.38</td>\n",
       "      <td>122.80</td>\n",
       "      <td>1001.0</td>\n",
       "      <td>0.11840</td>\n",
       "      <td>0.27760</td>\n",
       "      <td>0.3001</td>\n",
       "      <td>0.14710</td>\n",
       "      <td>...</td>\n",
       "      <td>25.38</td>\n",
       "      <td>17.33</td>\n",
       "      <td>184.60</td>\n",
       "      <td>2019.0</td>\n",
       "      <td>0.1622</td>\n",
       "      <td>0.6656</td>\n",
       "      <td>0.7119</td>\n",
       "      <td>0.2654</td>\n",
       "      <td>0.4601</td>\n",
       "      <td>0.11890</td>\n",
       "    </tr>\n",
       "    <tr>\n",
       "      <td>1</td>\n",
       "      <td>842517</td>\n",
       "      <td>1</td>\n",
       "      <td>20.57</td>\n",
       "      <td>17.77</td>\n",
       "      <td>132.90</td>\n",
       "      <td>1326.0</td>\n",
       "      <td>0.08474</td>\n",
       "      <td>0.07864</td>\n",
       "      <td>0.0869</td>\n",
       "      <td>0.07017</td>\n",
       "      <td>...</td>\n",
       "      <td>24.99</td>\n",
       "      <td>23.41</td>\n",
       "      <td>158.80</td>\n",
       "      <td>1956.0</td>\n",
       "      <td>0.1238</td>\n",
       "      <td>0.1866</td>\n",
       "      <td>0.2416</td>\n",
       "      <td>0.1860</td>\n",
       "      <td>0.2750</td>\n",
       "      <td>0.08902</td>\n",
       "    </tr>\n",
       "    <tr>\n",
       "      <td>2</td>\n",
       "      <td>84300903</td>\n",
       "      <td>1</td>\n",
       "      <td>19.69</td>\n",
       "      <td>21.25</td>\n",
       "      <td>130.00</td>\n",
       "      <td>1203.0</td>\n",
       "      <td>0.10960</td>\n",
       "      <td>0.15990</td>\n",
       "      <td>0.1974</td>\n",
       "      <td>0.12790</td>\n",
       "      <td>...</td>\n",
       "      <td>23.57</td>\n",
       "      <td>25.53</td>\n",
       "      <td>152.50</td>\n",
       "      <td>1709.0</td>\n",
       "      <td>0.1444</td>\n",
       "      <td>0.4245</td>\n",
       "      <td>0.4504</td>\n",
       "      <td>0.2430</td>\n",
       "      <td>0.3613</td>\n",
       "      <td>0.08758</td>\n",
       "    </tr>\n",
       "    <tr>\n",
       "      <td>3</td>\n",
       "      <td>84348301</td>\n",
       "      <td>1</td>\n",
       "      <td>11.42</td>\n",
       "      <td>20.38</td>\n",
       "      <td>77.58</td>\n",
       "      <td>386.1</td>\n",
       "      <td>0.14250</td>\n",
       "      <td>0.28390</td>\n",
       "      <td>0.2414</td>\n",
       "      <td>0.10520</td>\n",
       "      <td>...</td>\n",
       "      <td>14.91</td>\n",
       "      <td>26.50</td>\n",
       "      <td>98.87</td>\n",
       "      <td>567.7</td>\n",
       "      <td>0.2098</td>\n",
       "      <td>0.8663</td>\n",
       "      <td>0.6869</td>\n",
       "      <td>0.2575</td>\n",
       "      <td>0.6638</td>\n",
       "      <td>0.17300</td>\n",
       "    </tr>\n",
       "    <tr>\n",
       "      <td>4</td>\n",
       "      <td>84358402</td>\n",
       "      <td>1</td>\n",
       "      <td>20.29</td>\n",
       "      <td>14.34</td>\n",
       "      <td>135.10</td>\n",
       "      <td>1297.0</td>\n",
       "      <td>0.10030</td>\n",
       "      <td>0.13280</td>\n",
       "      <td>0.1980</td>\n",
       "      <td>0.10430</td>\n",
       "      <td>...</td>\n",
       "      <td>22.54</td>\n",
       "      <td>16.67</td>\n",
       "      <td>152.20</td>\n",
       "      <td>1575.0</td>\n",
       "      <td>0.1374</td>\n",
       "      <td>0.2050</td>\n",
       "      <td>0.4000</td>\n",
       "      <td>0.1625</td>\n",
       "      <td>0.2364</td>\n",
       "      <td>0.07678</td>\n",
       "    </tr>\n",
       "  </tbody>\n",
       "</table>\n",
       "<p>5 rows × 32 columns</p>\n",
       "</div>"
      ],
      "text/plain": [
       "         id  diagnosis  radius_mean  texture_mean  perimeter_mean  area_mean  \\\n",
       "0    842302          1        17.99         10.38          122.80     1001.0   \n",
       "1    842517          1        20.57         17.77          132.90     1326.0   \n",
       "2  84300903          1        19.69         21.25          130.00     1203.0   \n",
       "3  84348301          1        11.42         20.38           77.58      386.1   \n",
       "4  84358402          1        20.29         14.34          135.10     1297.0   \n",
       "\n",
       "   smoothness_mean  compactness_mean  concavity_mean  concave points_mean  \\\n",
       "0          0.11840           0.27760          0.3001              0.14710   \n",
       "1          0.08474           0.07864          0.0869              0.07017   \n",
       "2          0.10960           0.15990          0.1974              0.12790   \n",
       "3          0.14250           0.28390          0.2414              0.10520   \n",
       "4          0.10030           0.13280          0.1980              0.10430   \n",
       "\n",
       "   ...  radius_worst  texture_worst  perimeter_worst  area_worst  \\\n",
       "0  ...         25.38          17.33           184.60      2019.0   \n",
       "1  ...         24.99          23.41           158.80      1956.0   \n",
       "2  ...         23.57          25.53           152.50      1709.0   \n",
       "3  ...         14.91          26.50            98.87       567.7   \n",
       "4  ...         22.54          16.67           152.20      1575.0   \n",
       "\n",
       "   smoothness_worst  compactness_worst  concavity_worst  concave points_worst  \\\n",
       "0            0.1622             0.6656           0.7119                0.2654   \n",
       "1            0.1238             0.1866           0.2416                0.1860   \n",
       "2            0.1444             0.4245           0.4504                0.2430   \n",
       "3            0.2098             0.8663           0.6869                0.2575   \n",
       "4            0.1374             0.2050           0.4000                0.1625   \n",
       "\n",
       "   symmetry_worst  fractal_dimension_worst  \n",
       "0          0.4601                  0.11890  \n",
       "1          0.2750                  0.08902  \n",
       "2          0.3613                  0.08758  \n",
       "3          0.6638                  0.17300  \n",
       "4          0.2364                  0.07678  \n",
       "\n",
       "[5 rows x 32 columns]"
      ]
     },
     "execution_count": 8,
     "metadata": {},
     "output_type": "execute_result"
    }
   ],
   "source": [
    "# Verify Data Changes, look at first 5 rows \n",
    "data.head(5)"
   ]
  },
  {
   "cell_type": "markdown",
   "metadata": {},
   "source": [
    "# 6.  Split Data for Training \n",
    "\n",
    "A good rule of thumb is to hold out 20 percent of the data for testing.  "
   ]
  },
  {
   "cell_type": "code",
   "execution_count": 9,
   "metadata": {},
   "outputs": [],
   "source": [
    "X = data.drop(['id','diagnosis'], axis= 1)\n",
    "y = data.diagnosis\n",
    "\n",
    "X_train, X_test, y_train, y_test = train_test_split(X, y, test_size= 0.2, random_state= 42)\n",
    "# Use Pandas DataFrame\n",
    "X_train = pd.DataFrame(X_train)\n",
    "X_test=pd.DataFrame(X_test)\n",
    "y_train = pd.DataFrame(y_train)\n",
    "y_test=pd.DataFrame(y_test)\n",
    "\n",
    "tr_features=X_train\n",
    "tr_labels=y_train\n",
    "\n",
    "val_features = X_test\n",
    "val_labels=y_test"
   ]
  },
  {
   "cell_type": "markdown",
   "metadata": {},
   "source": [
    "Verify the data was split correctly"
   ]
  },
  {
   "cell_type": "code",
   "execution_count": 10,
   "metadata": {},
   "outputs": [
    {
     "name": "stdout",
     "output_type": "stream",
     "text": [
      "X_train - length: 455 y_train - length: 455\n",
      "X_test - length: 114 y_test - length: 114\n",
      "Percent heldout for testing: 20.0 %\n"
     ]
    }
   ],
   "source": [
    "print('X_train - length:',len(X_train), 'y_train - length:',len(y_train))\n",
    "print('X_test - length:',len(X_test),'y_test - length:',len(y_test))\n",
    "print('Percent heldout for testing:', round(100*(len(X_test)/len(data)),0),'%')"
   ]
  },
  {
   "cell_type": "markdown",
   "metadata": {},
   "source": [
    "# 7. Machine Learning:\n",
    "\n",
    "In order to find a good model, several algorithms are tested on the training dataset. A senstivity study using different Hyperparameters of the algorithms are iterated on with GridSearchCV in order optimize each model. The best model is the one that has the highest accuracy without overfitting by looking at both the training data and the validation data results. Computer time does not appear to be an issue for these models, so it has little weight on deciding between models."
   ]
  },
  {
   "cell_type": "markdown",
   "metadata": {},
   "source": [
    "## GridSearch CV\n",
    "\n",
    "class sklearn.model_selection.GridSearchCV(estimator, param_grid, scoring=None, n_jobs=None, iid='deprecated', refit=True, cv=None, verbose=0, pre_dispatch='2*n_jobs', error_score=nan, return_train_score=False)[source]¶\n",
    "\n",
    "Exhaustive search over specified parameter values for an estimator.\n",
    "\n",
    "Important members are fit, predict.\n",
    "\n",
    "GridSearchCV implements a “fit” and a “score” method. It also implements “predict”, “predict_proba”, “decision_function”, “transform” and “inverse_transform” if they are implemented in the estimator used.\n",
    "\n",
    "The parameters of the estimator used to apply these methods are optimized by cross-validated grid-search over a parameter grid."
   ]
  },
  {
   "cell_type": "markdown",
   "metadata": {},
   "source": [
    "#### Function: print_results"
   ]
  },
  {
   "cell_type": "code",
   "execution_count": 11,
   "metadata": {},
   "outputs": [],
   "source": [
    "def print_results(results,name,filename_pr):\n",
    "    with open(filename_pr, mode='w') as file_object:\n",
    "        print(name,file=file_object)\n",
    "        print(name)\n",
    "        print('BEST PARAMS: {}\\n'.format(results.best_params_),file=file_object)\n",
    "        print('BEST PARAMS: {}\\n'.format(results.best_params_))\n",
    "        means = results.cv_results_['mean_test_score']\n",
    "        stds = results.cv_results_['std_test_score']\n",
    "        for mean, std, params in zip(means, stds, results.cv_results_['params']):\n",
    "            print('{} {} (+/-{}) for {}'.format(name,round(mean, 3), round(std * 2, 3), params),file=file_object)\n",
    "            print('{} {} (+/-{}) for {}'.format(name,round(mean, 3), round(std * 2, 3), params))"
   ]
  },
  {
   "cell_type": "code",
   "execution_count": 12,
   "metadata": {},
   "outputs": [
    {
     "name": "stdout",
     "output_type": "stream",
     "text": [
      "<class 'sklearn.model_selection._search.GridSearchCV'>\n"
     ]
    }
   ],
   "source": [
    "print(GridSearchCV)"
   ]
  },
  {
   "cell_type": "markdown",
   "metadata": {},
   "source": [
    "## 7.1 Machine Learning Models:  Logistic Regression"
   ]
  },
  {
   "cell_type": "markdown",
   "metadata": {},
   "source": [
    "## Logistic Regression:  Hyperparameter used in GridSearchCV\n",
    "### HP1, C:  float, optional (default=1.0)\n",
    "Inverse of regularization strength; must be a positive float. Like in support vector machines, smaller values specify stronger regularization.\n",
    "##### Details\n",
    "Regularization is when a penality is applied with increasing value to prevent overfitting.  The inverse of regularization strength means as the value of C goes up, the value of the regularization strength goes down and vice versa.  \n",
    "##### Values chosen\n",
    "'C': [0.001, 0.01, 0.1, 1, 10, 100, 1000]"
   ]
  },
  {
   "cell_type": "code",
   "execution_count": 13,
   "metadata": {},
   "outputs": [
    {
     "name": "stdout",
     "output_type": "stream",
     "text": [
      "Already have LR\n"
     ]
    }
   ],
   "source": [
    "LR_model_dir=os.path.join(currentDirectory,'LR_model.pkl')\n",
    "if os.path.exists(LR_model_dir) == False:\n",
    "    lr = LogisticRegression()\n",
    "    parameters = {\n",
    "            'C': [0.001, 0.01, 0.1, 1, 10, 100, 1000]\n",
    "            }\n",
    "    cv=GridSearchCV(lr, parameters, cv=5)\n",
    "    cv.fit(tr_features,tr_labels.values.ravel())      \n",
    "    print_results(cv,'Logistic Regression (LR)','LR_GridSearchCV_results.txt')\n",
    "    cv.best_estimator_\n",
    "    LR_model_dir=os.path.join(currentDirectory,'LR_model.pkl')\n",
    "    joblib.dump(cv.best_estimator_,LR_model_dir)\n",
    "else:\n",
    "    print('Already have LR')"
   ]
  },
  {
   "cell_type": "markdown",
   "metadata": {},
   "source": [
    "# 7.2 Machine Learning Models:  Support Vector Machine"
   ]
  },
  {
   "cell_type": "markdown",
   "metadata": {},
   "source": [
    "## Support Vector Machine:  \n",
    "### Hyperparameter used in GridSearchCV\n",
    "#### HP1,  kernelstring, optional (default=’rbf’)\n",
    "Specifies the kernel type to be used in the algorithm. It must be one of ‘linear’, ‘poly’, ‘rbf’, ‘sigmoid’, ‘precomputed’ or a callable. If none is given, ‘rbf’ will be used. If a callable is given it is used to pre-compute the kernel matrix from data matrices; that matrix should be an array of shape (n_samples, n_samples).\n",
    "###### Details\n",
    "A linear kernel type is good when the data is Linearly seperable, which means it can be separated by a single Line.\n",
    "A radial basis function (rbf) kernel type is an expontential function of the squared Euclidean distance between two vectors and a constant.  Since the value of RBF kernel decreases with distance and ranges between zero and one, it has a ready interpretation as a similiarity measure.  \n",
    "###### Values chosen\n",
    "'kernel': ['linear','rbf']\n",
    "\n",
    "#### HP2,  C:  float, optional (default=1.0)\n",
    "Regularization parameter. The strength of the regularization is inversely proportional to C. Must be strictly positive. The penalty is a squared l2 penalty.\n",
    "###### Details\n",
    "Regularization is when a penality is applied with increasing value to prevent overfitting.  The inverse of regularization strength means as the value of C goes up, the value of the regularization strength goes down and vice versa.  \n",
    "###### Values chosen\n",
    "'C': [0.1, 1, 10]"
   ]
  },
  {
   "cell_type": "code",
   "execution_count": 14,
   "metadata": {},
   "outputs": [
    {
     "name": "stdout",
     "output_type": "stream",
     "text": [
      "SVC(C=1.0, cache_size=200, class_weight=None, coef0=0.0,\n",
      "    decision_function_shape='ovr', degree=3, gamma='auto_deprecated',\n",
      "    kernel='rbf', max_iter=-1, probability=False, random_state=None,\n",
      "    shrinking=True, tol=0.001, verbose=False)\n"
     ]
    }
   ],
   "source": [
    "print(SVC())"
   ]
  },
  {
   "cell_type": "code",
   "execution_count": 15,
   "metadata": {},
   "outputs": [
    {
     "name": "stdout",
     "output_type": "stream",
     "text": [
      "Already have SVM\n"
     ]
    }
   ],
   "source": [
    "SVM_model_dir=os.path.join(currentDirectory,'SVM_model.pkl')\n",
    "if os.path.exists(SVM_model_dir) == False:\n",
    "    svc = SVC()\n",
    "    parameters = {\n",
    "            'kernel': ['linear','rbf'],\n",
    "            'C': [0.1, 1, 10]\n",
    "            }\n",
    "    cv=GridSearchCV(svc,parameters, cv=5)\n",
    "    cv.fit(tr_features, tr_labels.values.ravel())\n",
    "    print_results(cv,'Support Vector Machine (SVM)','SVM_GridSearchCV_results.txt')\n",
    "    cv.best_estimator_\n",
    "    SVM_model_dir=os.path.join(currentDirectory,'SVM_model.pkl')\n",
    "    joblib.dump(cv.best_estimator_,SVM_model_dir)\n",
    "else:\n",
    "    print('Already have SVM')"
   ]
  },
  {
   "cell_type": "markdown",
   "metadata": {},
   "source": [
    "# 7.3 Machine Learning Models:  Neural Network"
   ]
  },
  {
   "cell_type": "markdown",
   "metadata": {},
   "source": [
    "## Neural Network:  (sklearn)\n",
    "### Hyperparameter used in GridSearchCV\n",
    "#### HP1, hidden_layer_sizes:  tuple, length = n_layers - 2, default (100,)\n",
    "The ith element represents the number of neurons in the ith hidden layer.\n",
    "###### Details\n",
    "A rule of thumb is (2/3)*(# of input features) = neurons per hidden layer. \n",
    "###### Values chosen\n",
    "'hidden_layer_sizes': [(10,),(50,),(100,)]\n",
    "\n",
    "#### HP2, activation:  {‘identity’, ‘logistic’, ‘tanh’, ‘relu’}, default ‘relu’\n",
    "Activation function for the hidden layer.\n",
    "###### Details\n",
    "* ‘identity’, no-op activation, useful to implement linear bottleneck, returns f(x) = x\n",
    "* ‘logistic’, the logistic sigmoid function, returns f(x) = 1 / (1 + exp(-x)).\n",
    "* ‘tanh’, the hyperbolic tan function, returns f(x) = tanh(x).\n",
    "* ‘relu’, the rectified linear unit function, returns f(x) = max(0, x)   \n",
    "###### Values chosen\n",
    "'hidden_layer_sizes': [(10,),(50,),(100,)]\n",
    "\n",
    "#### HP3, learning_rate:  {‘constant’, ‘invscaling’, ‘adaptive’}, default ‘constant’\n",
    "Learning rate schedule for weight updates.\n",
    "###### Details\n",
    "* ‘constant’ is a constant learning rate given by ‘learning_rate_init’.\n",
    "* ‘invscaling’ gradually decreases the learning rate at each time step ‘t’ using an inverse scaling exponent of ‘power_t’. effective_learning_rate = learning_rate_init / pow(t, power_t)\n",
    "* ‘adaptive’ keeps the learning rate constant to ‘learning_rate_init’ as long as training loss keeps decreasing. Each time two consecutive epochs fail to decrease training loss by at least tol, or fail to increase validation score by at least tol if ‘early_stopping’ is on, the current learning rate is divided by 5.\n",
    "\n",
    "Only used when solver='sgd'.\n",
    "  \n",
    "###### Values chosen\n",
    "'learning_rate': ['constant','invscaling','adaptive']"
   ]
  },
  {
   "cell_type": "code",
   "execution_count": 16,
   "metadata": {},
   "outputs": [
    {
     "name": "stdout",
     "output_type": "stream",
     "text": [
      "MLPClassifier(activation='relu', alpha=0.0001, batch_size='auto', beta_1=0.9,\n",
      "              beta_2=0.999, early_stopping=False, epsilon=1e-08,\n",
      "              hidden_layer_sizes=(100,), learning_rate='constant',\n",
      "              learning_rate_init=0.001, max_iter=200, momentum=0.9,\n",
      "              n_iter_no_change=10, nesterovs_momentum=True, power_t=0.5,\n",
      "              random_state=None, shuffle=True, solver='adam', tol=0.0001,\n",
      "              validation_fraction=0.1, verbose=False, warm_start=False)\n"
     ]
    }
   ],
   "source": [
    "print(MLPClassifier())"
   ]
  },
  {
   "cell_type": "code",
   "execution_count": 17,
   "metadata": {},
   "outputs": [
    {
     "name": "stdout",
     "output_type": "stream",
     "text": [
      "Already have MLP\n"
     ]
    }
   ],
   "source": [
    "MLP_model_dir=os.path.join(currentDirectory,'MLP_model.pkl')\n",
    "if os.path.exists(MLP_model_dir) == False:\n",
    "    mlp = MLPClassifier()\n",
    "    parameters = {\n",
    "            'hidden_layer_sizes': [(10,),(50,),(100,)],\n",
    "            'activation': ['relu','tanh','logistic'],\n",
    "            'learning_rate': ['constant','invscaling','adaptive']\n",
    "            }\n",
    "    cv=GridSearchCV(mlp, parameters, cv=5)\n",
    "    cv.fit(tr_features, tr_labels.values.ravel())\n",
    "    print_results(cv,'Neural Network (MLP)','MLP_GridSearchCV_results.txt')\n",
    "    cv.best_estimator_\n",
    "    MLP_model_dir=os.path.join(currentDirectory,'MLP_model.pkl')\n",
    "    joblib.dump(cv.best_estimator_,MLP_model_dir)\n",
    "else:\n",
    "    print('Already have MLP')"
   ]
  },
  {
   "cell_type": "markdown",
   "metadata": {},
   "source": [
    "# 7.4 Machine Learning Models:  Random Forest"
   ]
  },
  {
   "cell_type": "markdown",
   "metadata": {},
   "source": [
    "## Random Forest:  \n",
    "### Hyperparameter used in GridSearchCV\n",
    "#### HP1, n_estimators:  integer, optional (default=100)\n",
    "The number of trees in the forest.\n",
    "\n",
    "Changed in version 0.22: The default value of n_estimators changed from 10 to 100 in 0.22.\n",
    "###### Details\n",
    "Usually 500 does the trick and the accuracy and out of bag error doesn't change much after. \n",
    "###### Values chosen\n",
    "'n_estimators': [500],\n",
    "\n",
    "#### HP2, max_depth:  integer or None, optional (default=None)\n",
    "The maximum depth of the tree. If None, then nodes are expanded until all leaves are pure or until all leaves contain less than min_samples_split samples.\n",
    "###### Details\n",
    "None usually does the trick, but a few shallow trees are tested. \n",
    "###### Values chosen\n",
    "'max_depth': [5,7,9, None]"
   ]
  },
  {
   "cell_type": "code",
   "execution_count": 18,
   "metadata": {},
   "outputs": [
    {
     "name": "stdout",
     "output_type": "stream",
     "text": [
      "RandomForestClassifier(bootstrap=True, class_weight=None, criterion='gini',\n",
      "                       max_depth=None, max_features='auto', max_leaf_nodes=None,\n",
      "                       min_impurity_decrease=0.0, min_impurity_split=None,\n",
      "                       min_samples_leaf=1, min_samples_split=2,\n",
      "                       min_weight_fraction_leaf=0.0, n_estimators='warn',\n",
      "                       n_jobs=None, oob_score=False, random_state=None,\n",
      "                       verbose=0, warm_start=False)\n"
     ]
    }
   ],
   "source": [
    "print(RandomForestClassifier())"
   ]
  },
  {
   "cell_type": "code",
   "execution_count": 19,
   "metadata": {},
   "outputs": [
    {
     "name": "stdout",
     "output_type": "stream",
     "text": [
      "Already have RF\n"
     ]
    }
   ],
   "source": [
    "RF_model_dir=os.path.join(currentDirectory,'RF_model.pkl')\n",
    "if os.path.exists(RF_model_dir) == False:\n",
    "    rf = RandomForestClassifier(oob_score=False)\n",
    "    parameters = {\n",
    "            'n_estimators': [500],\n",
    "            'max_depth': [5,7,9, None]\n",
    "            }\n",
    "    cv = GridSearchCV(rf, parameters, cv=5)\n",
    "    cv.fit(tr_features, tr_labels.values.ravel())\n",
    "    print_results(cv,'Random Forest (RF)','RF_GridSearchCV_results.txt')\n",
    "    cv.best_estimator_\n",
    "    RF_model_dir=os.path.join(currentDirectory,'RF_model.pkl')\n",
    "    joblib.dump(cv.best_estimator_,RF_model_dir)\n",
    "else:\n",
    "    print('Already have RF')"
   ]
  },
  {
   "cell_type": "markdown",
   "metadata": {},
   "source": [
    "# 7.4 Machine Learning Models:  Gradient Boosting"
   ]
  },
  {
   "cell_type": "markdown",
   "metadata": {},
   "source": [
    "## Gradient Boosting:  \n",
    "### Hyperparameter used in GridSearchCV\n",
    "#### HP1, n_estimators:  int (default=100)\n",
    "The number of boosting stages to perform. Gradient boosting is fairly robust to over-fitting so a large number usually results in better performance.\n",
    "###### Details\n",
    "Usually 500 does the trick and the accuracy and out of bag error doesn't change much after. \n",
    "###### Values chosen\n",
    "'n_estimators': [5, 50, 250, 500],\n",
    "\n",
    "#### HP2, max_depth:  integer, optional (default=3)\n",
    "maximum depth of the individual regression estimators. The maximum depth limits the number of nodes in the tree. Tune this parameter for best performance; the best value depends on the interaction of the input variables.\n",
    "###### Details\n",
    "A variety of shallow trees are tested. \n",
    "###### Values chosen\n",
    "'max_depth': [1, 3, 5, 7, 9],\n",
    "\n",
    "#### HP3, learning_rate:  float, optional (default=0.1)\n",
    "learning rate shrinks the contribution of each tree by learning_rate. There is a trade-off between learning_rate and n_estimators.\n",
    "###### Details\n",
    "A variety was chosen because of the trade-off.\n",
    "###### Values chosen\n",
    "'learning_rate': [0.01, 0.1, 1]"
   ]
  },
  {
   "cell_type": "code",
   "execution_count": 20,
   "metadata": {},
   "outputs": [
    {
     "name": "stdout",
     "output_type": "stream",
     "text": [
      "GradientBoostingClassifier(criterion='friedman_mse', init=None,\n",
      "                           learning_rate=0.1, loss='deviance', max_depth=3,\n",
      "                           max_features=None, max_leaf_nodes=None,\n",
      "                           min_impurity_decrease=0.0, min_impurity_split=None,\n",
      "                           min_samples_leaf=1, min_samples_split=2,\n",
      "                           min_weight_fraction_leaf=0.0, n_estimators=100,\n",
      "                           n_iter_no_change=None, presort='auto',\n",
      "                           random_state=None, subsample=1.0, tol=0.0001,\n",
      "                           validation_fraction=0.1, verbose=0,\n",
      "                           warm_start=False)\n"
     ]
    }
   ],
   "source": [
    "print(GradientBoostingClassifier())"
   ]
  },
  {
   "cell_type": "code",
   "execution_count": 21,
   "metadata": {},
   "outputs": [
    {
     "name": "stdout",
     "output_type": "stream",
     "text": [
      "Already have GB\n"
     ]
    }
   ],
   "source": [
    "GB_model_dir=os.path.join(currentDirectory,'GB_model.pkl')\n",
    "if os.path.exists(GB_model_dir) == False:\n",
    "    gb = GradientBoostingClassifier()\n",
    "    parameters = {\n",
    "            'n_estimators': [5, 50, 250, 500],\n",
    "            'max_depth': [1, 3, 5, 7, 9],\n",
    "            'learning_rate': [0.01, 0.1, 1]\n",
    "            }\n",
    "    cv=GridSearchCV(gb, parameters, cv=5)\n",
    "    cv.fit(tr_features, tr_labels.values.ravel())\n",
    "    print_results(cv,'Gradient Boost (GB)','GR_GridSearchCV_results.txt')\n",
    "    cv.best_estimator_\n",
    "    GB_model_dir=os.path.join(currentDirectory,'GB_model.pkl')\n",
    "    joblib.dump(cv.best_estimator_,GB_model_dir)\n",
    "else:\n",
    "    print('Already have GB') "
   ]
  },
  {
   "cell_type": "markdown",
   "metadata": {},
   "source": [
    "# 7.5 Machine Learning Models:  eXtreme Gradient Boosting"
   ]
  },
  {
   "cell_type": "markdown",
   "metadata": {},
   "source": [
    "## eXtreme Gradient Boosting:  \n",
    "### Hyperparameter used in GridSearchCV\n",
    "#### HP1, n_estimators:  (int) – Number of trees to fit.\n",
    "###### Details\n",
    "Usually 500 does the trick and the accuracy and out of bag error doesn't change much after. \n",
    "###### Values chosen\n",
    "'n_estimators': [5, 50, 250, 500],\n",
    "\n",
    "#### HP2, max_depth:  (int) – \n",
    "Maximum tree depth for base learners.\n",
    "###### Details\n",
    "A variety of shallow trees are tested. \n",
    "###### Values chosen\n",
    "'max_depth': [1, 3, 5, 7, 9],\n",
    "\n",
    "#### HP3, learning_rate: (float) – \n",
    "Boosting learning rate (xgb’s “eta”)\n",
    "###### Details\n",
    "A variety was chosen because of the trade-off.\n",
    "###### Values chosen\n",
    "'learning_rate': [0.01, 0.1, 1]"
   ]
  },
  {
   "cell_type": "code",
   "execution_count": 22,
   "metadata": {},
   "outputs": [
    {
     "name": "stdout",
     "output_type": "stream",
     "text": [
      "Already have XGB\n"
     ]
    }
   ],
   "source": [
    "XGB_model_dir=os.path.join(currentDirectory,'XGB_model.pkl')\n",
    "if os.path.exists(XGB_model_dir) == False:\n",
    "    xgb = XGBClassifier()\n",
    "    parameters = {\n",
    "            'n_estimators': [5, 50, 250, 500],\n",
    "            'max_depth': [1, 3, 5, 7, 9],\n",
    "            'learning_rate': [0.01, 0.1, 1]\n",
    "            }\n",
    "    cv=GridSearchCV(xgb, parameters, cv=5)\n",
    "    cv.fit(tr_features, tr_labels.values.ravel())\n",
    "    print_results(cv,'eXtreme Gradient Boost (XGB)','XGB_GridSearchCV_results.txt')\n",
    "    cv.best_estimator_\n",
    "    XGB_model_dir=os.path.join(currentDirectory,'XGB_model.pkl')\n",
    "    joblib.dump(cv.best_estimator_,XGB_model_dir)\n",
    "else:\n",
    "    print('Already have XGB')  "
   ]
  },
  {
   "cell_type": "markdown",
   "metadata": {},
   "source": [
    "# 8. Evaluate Models"
   ]
  },
  {
   "cell_type": "code",
   "execution_count": 23,
   "metadata": {},
   "outputs": [],
   "source": [
    "## all models\n",
    "models = {}\n",
    "\n",
    "#for mdl in ['LR', 'SVM', 'MLP', 'RF', 'GB','XGB']:\n",
    "for mdl in ['LR', 'SVM', 'MLP', 'RF', 'GB','XGB']:\n",
    "    model_path=os.path.join(currentDirectory,'{}_model.pkl')\n",
    "    models[mdl] = joblib.load(model_path.format(mdl))"
   ]
  },
  {
   "cell_type": "markdown",
   "metadata": {},
   "source": [
    "#### Function: evaluate_model"
   ]
  },
  {
   "cell_type": "code",
   "execution_count": 24,
   "metadata": {},
   "outputs": [],
   "source": [
    "def evaluate_model(name, model, features, labels, y_test_ev, fc):\n",
    "        start = time()\n",
    "        pred = model.predict(features)\n",
    "        end = time()\n",
    "        y_truth=y_test_ev\n",
    "        accuracy = round(accuracy_score(labels, pred), 3)\n",
    "        precision = round(precision_score(labels, pred), 3)\n",
    "        recall = round(recall_score(labels, pred), 3)\n",
    "        print('{} -- Accuracy: {} / Precision: {} / Recall: {} / Latency: {}ms'.format(name,\n",
    "                                                                                       accuracy,\n",
    "                                                                                       precision,\n",
    "                                                                                       recall,\n",
    "                                                                                       round((end - start)*1000, 1)))\n",
    "        \n",
    "        \n",
    "        pred=pd.DataFrame(pred)\n",
    "        pred.columns=['diagnosis']\n",
    "        # Convert Diagnosis for Cancer from Binary to Categorical\n",
    "        diagnosis_name={0:'Benign',1:'Malginant'}\n",
    "        y_truth['diagnosis']=y_truth['diagnosis'].map(diagnosis_name)\n",
    "        pred['diagnosis']=pred['diagnosis'].map(diagnosis_name)\n",
    "        class_names = ['Benign','Malginant']        \n",
    "        cm = confusion_matrix(y_test_ev, pred, class_names)\n",
    "        \n",
    "        FP_L='False Positive'\n",
    "        FP = cm[0][1]\n",
    "        #print(FP_L)\n",
    "        #print(FP)\n",
    "        FN_L='False Negative'\n",
    "        FN = cm[1][0]\n",
    "        #print(FN_L)\n",
    "        #print(FN)\n",
    "        TP_L='True Positive'\n",
    "        TP = cm[1][1]\n",
    "        #print(TP_L)\n",
    "        #print(TP)\n",
    "        TN_L='True Negative'\n",
    "        TN = cm[0][0]\n",
    "        #print(TN_L)\n",
    "        #print(TN)\n",
    "\n",
    "        #TPR_L= 'Sensitivity, hit rate, recall, or true positive rate'\n",
    "        TPR_L= 'Sensitivity'\n",
    "        TPR = round(TP/(TP+FN),3)\n",
    "        #print(TPR_L)\n",
    "        #print(TPR)\n",
    "        #TNR_L= 'Specificity or true negative rate'\n",
    "        TNR_L= 'Specificity'\n",
    "        TNR = round(TN/(TN+FP),3) \n",
    "        #print(TNR_L)\n",
    "        #print(TNR)\n",
    "        #PPV_L= 'Precision or positive predictive value'\n",
    "        PPV_L= 'Precision'\n",
    "        PPV = round(TP/(TP+FP),3)\n",
    "        #print(PPV_L)\n",
    "        #print(PPV)\n",
    "        #NPV_L= 'Negative predictive value'\n",
    "        NPV_L= 'NPV'\n",
    "        NPV = round(TN/(TN+FN),3)\n",
    "        #print(NPV_L)\n",
    "        #print(NPV)\n",
    "        #FPR_L= 'Fall out or false positive rate'\n",
    "        FPR_L= 'FPR'\n",
    "        FPR = round(FP/(FP+TN),3)\n",
    "        #print(FPR_L)\n",
    "        #print(FPR)\n",
    "        #FNR_L= 'False negative rate'\n",
    "        FNR_L= 'FNR'\n",
    "        FNR = round(FN/(TP+FN),3)\n",
    "        #print(FNR_L)\n",
    "        #print(FNR)\n",
    "        #FDR_L= 'False discovery rate'\n",
    "        FDR_L= 'FDR'\n",
    "        FDR = round(FP/(TP+FP),3)\n",
    "        #print(FDR_L)\n",
    "        #print(FDR)\n",
    "\n",
    "        ACC_L= 'Accuracy'\n",
    "        ACC = round((TP+TN)/(TP+FP+FN+TN),3)\n",
    "        #print(ACC_L)\n",
    "        #print(ACC)\n",
    "        \n",
    "        stats_data = {'Name':name,\n",
    "                      ACC_L:ACC,\n",
    "                      FP_L:FP,\n",
    "                     FN_L:FN,\n",
    "                     TP_L:TP,\n",
    "                     TN_L:TN,\n",
    "                     TPR_L:TPR,\n",
    "                     TNR_L:TNR,\n",
    "                     PPV_L:PPV,\n",
    "                     NPV_L:NPV,\n",
    "                     FPR_L:FPR,\n",
    "                     FNR_L:FDR}\n",
    "        fig = plt.figure()\n",
    "        ax = fig.add_subplot(111)\n",
    "        cax = ax.matshow(cm,cmap=plt.cm.gray_r)\n",
    "        plt.title('Figure {}.A: {} Confusion Matrix on Unseen Test Data'.format(fc,name),y=1.08)\n",
    "        fig.colorbar(cax)\n",
    "        ax.set_xticklabels([''] + class_names)\n",
    "        ax.set_yticklabels([''] + class_names)\n",
    "        # Loop over data dimensions and create text annotations.\n",
    "        for i in range(len(class_names)):\n",
    "            for j in range(len(class_names)):\n",
    "                text = ax.text(j, i, cm[i, j],\n",
    "                               ha=\"center\", va=\"center\", color=\"r\")\n",
    "        plt.xlabel('Predicted')\n",
    "        plt.ylabel('True')\n",
    "        plt.savefig('Figure{}.A_{}_Confusion_Matrix.png'.format(fc,name),dpi=400,bbox_inches='tight')\n",
    "        #plt.show()\n",
    "        \n",
    "        if  name == 'RF' or name == 'GB' or name == 'XGB': \n",
    "            # Get numerical feature importances\n",
    "            importances = list(model.feature_importances_)\n",
    "            importances=100*(importances/max(importances))               \n",
    "            feature_list = list(features.columns)\n",
    "            sorted_ID=np.argsort(importances)   \n",
    "            plt.figure()\n",
    "            plt.barh(sort_list(feature_list,importances),importances[sorted_ID],align='center')\n",
    "            plt.title('Figure {}.B: {} Variable Importance Plot'.format(fc,name))\n",
    "            plt.xlabel('Relative Importance')\n",
    "            plt.ylabel('Feature') \n",
    "            plt.savefig('Figure{}.B_{}_Variable_Importance_Plot.png'.format(fc,name),dpi=300,bbox_inches='tight')\n",
    "            #plt.show()\n",
    "        \n",
    "        return accuracy,name, model, stats_data\n",
    "        \n",
    "\n"
   ]
  },
  {
   "cell_type": "markdown",
   "metadata": {},
   "source": [
    "#### Function:  sort_list"
   ]
  },
  {
   "cell_type": "code",
   "execution_count": 25,
   "metadata": {},
   "outputs": [],
   "source": [
    "    def sort_list(list1, list2): \n",
    "        zipped_pairs = zip(list2, list1)   \n",
    "        z = [x for _, x in sorted(zipped_pairs)]       \n",
    "        return z "
   ]
  },
  {
   "cell_type": "markdown",
   "metadata": {},
   "source": [
    "### Search for best model using test features"
   ]
  },
  {
   "cell_type": "code",
   "execution_count": 27,
   "metadata": {},
   "outputs": [
    {
     "name": "stdout",
     "output_type": "stream",
     "text": [
      "LR -- Accuracy: 0.965 / Precision: 0.953 / Recall: 0.953 / Latency: 8.3ms\n",
      "SVM -- Accuracy: 0.939 / Precision: 0.929 / Recall: 0.907 / Latency: 1.7ms\n",
      "MLP -- Accuracy: 0.965 / Precision: 0.933 / Recall: 0.977 / Latency: 3.2ms\n",
      "RF -- Accuracy: 0.965 / Precision: 0.976 / Recall: 0.93 / Latency: 92.4ms\n",
      "GB -- Accuracy: 0.974 / Precision: 0.955 / Recall: 0.977 / Latency: 3.6ms\n",
      "XGB -- Accuracy: 0.956 / Precision: 0.952 / Recall: 0.93 / Latency: 6.8ms\n"
     ]
    },
    {
     "data": {
      "image/png": "[encoded data removed]",
      "text/plain": [
       "<Figure size 432x288 with 2 Axes>"
      ]
     },
     "metadata": {
      "needs_background": "light"
     },
     "output_type": "display_data"
    },
    {
     "data": {
      "image/png": "[encoded data removed]",
      "text/plain": [
       "<Figure size 432x288 with 2 Axes>"
      ]
     },
     "metadata": {
      "needs_background": "light"
     },
     "output_type": "display_data"
    },
    {
     "data": {
      "image/png": "[encoded data removed]",
      "text/plain": [
       "<Figure size 432x288 with 2 Axes>"
      ]
     },
     "metadata": {
      "needs_background": "light"
     },
     "output_type": "display_data"
    },
    {
     "data": {
      "image/png": "[encoded data removed]",
      "text/plain": [
       "<Figure size 432x288 with 2 Axes>"
      ]
     },
     "metadata": {
      "needs_background": "light"
     },
     "output_type": "display_data"
    },
    {
     "data": {
      "image/png": "[encoded data removed]",
      "text/plain": [
       "<Figure size 432x288 with 1 Axes>"
      ]
     },
     "metadata": {
      "needs_background": "light"
     },
     "output_type": "display_data"
    },
    {
     "data": {
      "image/png": "[encoded data removed]",
      "text/plain": [
       "<Figure size 432x288 with 2 Axes>"
      ]
     },
     "metadata": {
      "needs_background": "light"
     },
     "output_type": "display_data"
    },
    {
     "data": {
      "image/png": "[encoded data removed]",
      "text/plain": [
       "<Figure size 432x288 with 1 Axes>"
      ]
     },
     "metadata": {
      "needs_background": "light"
     },
     "output_type": "display_data"
    },
    {
     "data": {
      "image/png": "[encoded data removed]",
      "text/plain": [
       "<Figure size 432x288 with 2 Axes>"
      ]
     },
     "metadata": {
      "needs_background": "light"
     },
     "output_type": "display_data"
    },
    {
     "data": {
      "image/png": "[encoded data removed]",
      "text/plain": [
       "<Figure size 432x288 with 1 Axes>"
      ]
     },
     "metadata": {
      "needs_background": "light"
     },
     "output_type": "display_data"
    }
   ],
   "source": [
    "ev_accuracy=[None]*len(models)\n",
    "ev_name=[None]*len(models)\n",
    "ev_model=[None]*len(models)\n",
    "ev_stats=[None]*len(models)\n",
    "count=1\n",
    "for name, mdl in models.items():\n",
    "        y_test_ev=y_test\n",
    "        ev_accuracy[count-1],ev_name[count-1],ev_model[count-1], ev_stats[count-1] = evaluate_model(name,mdl,val_features, val_labels, y_test_ev,count)\n",
    "        diagnosis_name={'Benign':0,'Malginant':1}\n",
    "        y_test['diagnosis']=y_test['diagnosis'].map(diagnosis_name)\n",
    "        count=count+1\n",
    "\n",
    "    \n",
    "\n"
   ]
  },
  {
   "cell_type": "code",
   "execution_count": 28,
   "metadata": {},
   "outputs": [
    {
     "name": "stdout",
     "output_type": "stream",
     "text": [
      "Best Model: GB with Accuracy of  0.974\n"
     ]
    },
    {
     "data": {
      "image/png": "[encoded data removed]",
      "text/plain": [
       "<Figure size 432x288 with 1 Axes>"
      ]
     },
     "metadata": {
      "needs_background": "light"
     },
     "output_type": "display_data"
    }
   ],
   "source": [
    "best_name=ev_name[ev_accuracy.index(max(ev_accuracy))]    #picks the maximum accuracy\n",
    "print('Best Model:',best_name,'with Accuracy of ',max(ev_accuracy))   \n",
    "best_model=ev_model[ev_accuracy.index(max(ev_accuracy))]    #picks the maximum accuracy\n",
    "\n",
    "if best_name == 'RF' or best_name == 'GB' or best_name == 'XGB': \n",
    "    # Get numerical feature importances\n",
    "    importances = list(best_model.feature_importances_)\n",
    "    importances=100*(importances/max(importances))               \n",
    "    feature_list = list(X.columns)\n",
    "    sorted_ID=np.argsort(importances)   \n",
    "    plt.figure()\n",
    "    plt.barh(sort_list(feature_list,importances),importances[sorted_ID],align='center')\n",
    "    plt.title('Figure 7:  Variable Importance Plot -- {}'.format(best_name))\n",
    "    plt.xlabel('Relative Importance')\n",
    "    plt.ylabel('Feature') \n",
    "    plt.savefig('Figure7.png',dpi=300,bbox_inches='tight')\n",
    "    plt.show()"
   ]
  },
  {
   "cell_type": "markdown",
   "metadata": {},
   "source": [
    " # 9. Conclusions \n",
    "  When it comes to diagnosing breast cancer, we want to make sure we don't have too many false positives (you have cancer, but told you dont) or false negatives (you don't have cancer, but told you do and go on treatments).  Therefore, the highest overall accuracy model is chosen.  \n",
    "\n",
    "  All of the models performed well after fine tunning their hyperparameters, but the best model was the Gradient Boosted model as shown with an accuracy of ~97.4%.  Out of the 20% of data witheld in this test (114 random individuals), only 3 were misdiagnosed.  Two of which were misdiagnosed via False Positive, which means they had cancer, but told they didn't.  One was misdiganosed via False Negative, which means they didn't have cancer, but told they did.  No model is perfect, but I am happy about how accurate my model is here.  If on average only 3 people out of 114 are misdiagnosed, that is a good start for making a model.  Furthermore, the Feature Importance plots show that the \"concave points mean\" was by far the most significant feature to extract from a biopsy and should be taken each time if possible for predicting breast cancer.   "
   ]
  },
  {
   "cell_type": "code",
   "execution_count": 29,
   "metadata": {},
   "outputs": [
    {
     "name": "stdout",
     "output_type": "stream",
     "text": [
      "  Name  Accuracy  False Positive  False Negative  True Positive  \\\n",
      "0   LR     0.965               2               2             41   \n",
      "1  SVM     0.939               3               4             39   \n",
      "2  MLP     0.965               3               1             42   \n",
      "3   RF     0.965               1               3             40   \n",
      "4   GB     0.974               2               1             42   \n",
      "5  XGB     0.956               2               3             40   \n",
      "\n",
      "   True Negative  Sensitivity  Specificity  Precision    NPV    FPR    FNR  \n",
      "0             69        0.953        0.972      0.953  0.972  0.028  0.047  \n",
      "1             68        0.907        0.958      0.929  0.944  0.042  0.071  \n",
      "2             68        0.977        0.958      0.933  0.986  0.042  0.067  \n",
      "3             70        0.930        0.986      0.976  0.959  0.014  0.024  \n",
      "4             69        0.977        0.972      0.955  0.986  0.028  0.045  \n",
      "5             69        0.930        0.972      0.952  0.958  0.028  0.048  \n"
     ]
    }
   ],
   "source": [
    "ev_stats=pd.DataFrame(ev_stats)\n",
    "print(ev_stats.head(10))"
   ]
  },
  {
   "cell_type": "code",
   "execution_count": null,
   "metadata": {},
   "outputs": [],
   "source": []
  }
 ],
 "metadata": {
  "kernelspec": {
   "display_name": "Python 3",
   "language": "python",
   "name": "python3"
  },
  "language_info": {
   "codemirror_mode": {
    "name": "ipython",
    "version": 3
   },
   "file_extension": ".py",
   "mimetype": "text/x-python",
   "name": "python",
   "nbconvert_exporter": "python",
   "pygments_lexer": "ipython3",
   "version": "3.7.4"
  }
 },
 "nbformat": 4,
 "nbformat_minor": 2
}
